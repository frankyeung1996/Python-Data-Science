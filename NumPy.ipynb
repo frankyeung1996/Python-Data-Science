{
 "cells": [
  {
   "cell_type": "code",
   "execution_count": 5,
   "metadata": {
    "scrolled": true
   },
   "outputs": [
    {
     "name": "stdout",
     "output_type": "stream",
     "text": [
      "[ 10  15   5 205]\n",
      "<class 'numpy.int32'>\n",
      "16\n"
     ]
    }
   ],
   "source": [
    "# numpy array creation: np.array()\n",
    "list = [5, 10, 0, 200]\n",
    "\n",
    "import numpy as np\n",
    "arr = np.array(list)\n",
    "\n",
    "print(arr + 5)\n",
    "\n",
    "#datatype: type()\n",
    "print(type(arr[0]))\n",
    "\n",
    "#check data bytes: nbytes\n",
    "print(arr.nbytes)"
   ]
  },
  {
   "cell_type": "code",
   "execution_count": 11,
   "metadata": {},
   "outputs": [
    {
     "name": "stdout",
     "output_type": "stream",
     "text": [
      "[2 5 6 8]\n",
      "<class 'numpy.ndarray'>\n",
      "int32\n",
      "[0.   1.33 2.66 3.99 5.32 6.65 7.98 9.31]\n",
      "[  0.  40.  80. 120. 160.]\n"
     ]
    }
   ],
   "source": [
    "#numpy ndarray creation: np.array(arr, dtype=int)\n",
    "arr = np.array([2,5,6,8], dtype = int)\n",
    "print(arr)\n",
    "print(type(arr))\n",
    "print(np.result_type(arr))\n",
    "\n",
    "\n",
    "#np.arange(start, end, step) \n",
    "print(np.arange(0,10,1.33, dtype=np.float64))\n",
    "\n",
    "#np.linspace(start, end, total_count)\n",
    "print(np.linspace(0,160,5, dtype=np.float64))"
   ]
  },
  {
   "cell_type": "code",
   "execution_count": 16,
   "metadata": {},
   "outputs": [
    {
     "name": "stdout",
     "output_type": "stream",
     "text": [
      "[[ 5  6  8]\n",
      " [45 12 52]]\n",
      "[[1 2]\n",
      " [3 4]]\n",
      "[[1. 0. 0.]\n",
      " [0. 1. 0.]\n",
      " [0. 0. 1.]]\n",
      "[[0. 0. 0.]\n",
      " [0. 0. 0.]\n",
      " [0. 0. 0.]\n",
      " [0. 0. 0.]]\n",
      "[[1. 1. 1.]\n",
      " [1. 1. 1.]\n",
      " [1. 1. 1.]]\n"
     ]
    }
   ],
   "source": [
    "#create matrix 1: np.reshape(row,col)\n",
    "print(np.array([5,6,8,45,12,52]).reshape(2,3))\n",
    "\n",
    "#create matrix 2: np.matrix(multi_dimension_array)\n",
    "print(np.matrix([[1,2],[3,4]]))\n",
    "\n",
    "#create matrix 3: use mics function:\n",
    "print(np.eye(3))\n",
    "print(np.zeros( (4,3) ))\n",
    "print(np.ones( (3,3), dtype=np.float64))"
   ]
  },
  {
   "cell_type": "code",
   "execution_count": 30,
   "metadata": {},
   "outputs": [
    {
     "name": "stdout",
     "output_type": "stream",
     "text": [
      "[[ 67.-0.j  59.+0.j  98.-0.j]\n",
      " [117.+0.j 890.-0.j 121.+0.j]]\n"
     ]
    }
   ],
   "source": [
    "arr1 = np.array([25,56,12,85,34,75],dtype=int)\n",
    "arr2 = np.array([42,3,86,32,856,46],dtype=int)\n",
    "\n",
    "#random numpy array\n",
    "Narr = np.random.rand(6,1)\n",
    "\n",
    "#change numpy array datatype\n",
    "arr1 = arr1.astype('complex')\n",
    "\n",
    "arr1_mat =  arr1.reshape(2,3)\n",
    "arr2_mat  = arr2.reshape(2,3)\n",
    "\n",
    "#calculation\n",
    "result = (arr1_mat*arr1_mat - arr2_mat*arr2_mat) / (arr1_mat - arr2_mat)\n",
    "print(result)"
   ]
  },
  {
   "cell_type": "code",
   "execution_count": 35,
   "metadata": {},
   "outputs": [
    {
     "name": "stdout",
     "output_type": "stream",
     "text": [
      "[[2 5 6 5]\n",
      " [4 8 6 5]]\n",
      "[[6 7 5 9]\n",
      " [7 5 6 4]]\n",
      "[[ 4  2 -1  4]\n",
      " [ 3 -3  0 -1]]\n",
      "[[False False False False]\n",
      " [False False False False]]\n",
      "[[False False False False]\n",
      " [False False False False]]\n"
     ]
    }
   ],
   "source": [
    "#Suppose we're given a literacy rate data sample of State X and State Y \n",
    "#for two consecutive years measured quarterly on a scale of 0-10. \n",
    "#Let us try to arrive at the following outcomes:\n",
    "\n",
    "S_X = np.array([[2,5,6,5],[4,8,6,5]])\n",
    "print(S_X)\n",
    "\n",
    "S_Y = np.array([[6,7,5,9],[7,5,6,4]])\n",
    "print(S_Y)\n",
    "\n",
    "#Quarterly difference between each state's literacy rate per year\n",
    "print(S_Y - S_X)\n",
    "\n",
    "#Quarters having a literacy rate less than 2.\n",
    "print(S_X < 2)\n",
    "\n",
    "twos_mat = np.ones((2,4)) * 2\n",
    "print(np.less(S_Y, twos_mat))\n"
   ]
  },
  {
   "cell_type": "code",
   "execution_count": 43,
   "metadata": {},
   "outputs": [
    {
     "data": {
      "text/plain": [
       "array([[4., 1., 1., 1.],\n",
       "       [1., 5., 1., 1.],\n",
       "       [1., 1., 6., 1.],\n",
       "       [1., 1., 1., 1.]])"
      ]
     },
     "execution_count": 43,
     "metadata": {},
     "output_type": "execute_result"
    }
   ],
   "source": [
    "#change value in numpy\n",
    "four_mat = np.ones((4,4))\n",
    "count=4\n",
    "for i in range(3):\n",
    "    four_mat[i][i]=count\n",
    "    count=count+1\n",
    "four_mat"
   ]
  },
  {
   "cell_type": "code",
   "execution_count": 44,
   "metadata": {},
   "outputs": [
    {
     "data": {
      "text/plain": [
       "array([ 0,  1,  2,  3,  4,  5,  6,  7,  8,  9, 10])"
      ]
     },
     "execution_count": 44,
     "metadata": {},
     "output_type": "execute_result"
    }
   ],
   "source": [
    "#np.arange(number_of_array)\n",
    "arr = np.arange(11)\n",
    "arr"
   ]
  },
  {
   "cell_type": "code",
   "execution_count": 53,
   "metadata": {
    "scrolled": true
   },
   "outputs": [
    {
     "name": "stdout",
     "output_type": "stream",
     "text": [
      "A\n",
      "C\n"
     ]
    }
   ],
   "source": [
    "#Given a matrix mat and an array arr, \n",
    "#for each row of the matrix if elements of Column 1 are equal to \n",
    "#the corresponding element of the array, \n",
    "# then print the corresponding value of Column 2 of the matrix.\n",
    "\n",
    "import numpy as np\n",
    "mat = np.array([['abc','A'],['def','B'],['ghi','C'],['jkl','D']])\n",
    "arr = np.array(['abc','dfe','ghi','kjl']) \n",
    "\n",
    "for x in range(len(mat)):\n",
    "    for y in range(len(arr)):\n",
    "        if mat[x,0] == arr[y]:\n",
    "            print(mat[x,1])"
   ]
  },
  {
   "cell_type": "code",
   "execution_count": 57,
   "metadata": {},
   "outputs": [
    {
     "data": {
      "text/plain": [
       "array([1, 2, 0], dtype=int64)"
      ]
     },
     "execution_count": 57,
     "metadata": {},
     "output_type": "execute_result"
    }
   ],
   "source": [
    "#np.array[:,sort_by_col].argsort()\n",
    "import numpy as np\n",
    "mat = np.array([[1,21,3],[5,4,2],[56,12,4]])\n",
    "\n",
    "mat[mat[:,1].argsort()]"
   ]
  },
  {
   "cell_type": "code",
   "execution_count": 69,
   "metadata": {},
   "outputs": [
    {
     "name": "stdout",
     "output_type": "stream",
     "text": [
      "590\n",
      "90\n",
      "50\n",
      "45\n"
     ]
    }
   ],
   "source": [
    "#find top 4 maximum value\n",
    "import numpy as np\n",
    "arr = np.array([90, 14, 24, 13, 13, 590, 0, 45, 16, 50])\n",
    "\n",
    "sort_arr =  np.sort(arr)[::-1]\n",
    "for i in range(4):\n",
    "    print(sort_arr[i])"
   ]
  },
  {
   "cell_type": "code",
   "execution_count": null,
   "metadata": {},
   "outputs": [],
   "source": []
  }
 ],
 "metadata": {
  "kernelspec": {
   "display_name": "Python 3",
   "language": "python",
   "name": "python3"
  },
  "language_info": {
   "codemirror_mode": {
    "name": "ipython",
    "version": 3
   },
   "file_extension": ".py",
   "mimetype": "text/x-python",
   "name": "python",
   "nbconvert_exporter": "python",
   "pygments_lexer": "ipython3",
   "version": "3.7.3"
  }
 },
 "nbformat": 4,
 "nbformat_minor": 2
}
