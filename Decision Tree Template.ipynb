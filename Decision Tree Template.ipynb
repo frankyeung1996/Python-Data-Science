{
 "cells": [
  {
   "cell_type": "code",
   "execution_count": 13,
   "metadata": {
    "scrolled": false
   },
   "outputs": [
    {
     "name": "stdout",
     "output_type": "stream",
     "text": [
      "1.0 0.882179675994109\n"
     ]
    }
   ],
   "source": [
    "import numpy as np\n",
    "import pandas as pd\n",
    "import matplotlib.pyplot as plt\n",
    "%matplotlib inline\n",
    "import warnings\n",
    "warnings.filterwarnings(\"ignore\")\n",
    "\n",
    "credit_data = pd.read_csv(\"bank.csv\", sep=\";\")\n",
    "credit_data.head()\n"
   ]
  },
  {
   "cell_type": "code",
   "execution_count": null,
   "metadata": {},
   "outputs": [],
   "source": [
    "#select features\n",
    "features = credit_data.columns.drop(\"y\")\n",
    "target = [\"y\"]\n",
    "\n",
    "#encoding the categorical variable\n",
    "credit_data_encoded = pd.get_dummies(credit_data[features])\n",
    "#print(credit_data[\"y\"])\n",
    "#print(pd.get_dummies(credit_data[\"y\"]))\n",
    "credit_data_encoded[\"y\"] =pd.get_dummies(credit_data[\"y\"])['yes'].values\n",
    "\n",
    "#credit_data_encoded.columns\n"
   ]
  },
  {
   "cell_type": "code",
   "execution_count": null,
   "metadata": {},
   "outputs": [],
   "source": [
    "from sklearn.model_selection import train_test_split\n",
    "credit_train, credit_test = train_test_split(credit_data_encoded, test_size=0.15)\n",
    "credit_train.shape, credit_test.shape\n",
    "\n",
    "from sklearn.tree import DecisionTreeClassifier\n",
    "model = DecisionTreeClassifier()\n",
    "\n",
    "features = credit_train.columns.drop(\"y\")\n",
    "target = [\"y\"]\n",
    "model.fit(credit_train[features],credit_train[target])\n"
   ]
  },
  {
   "cell_type": "code",
   "execution_count": null,
   "metadata": {},
   "outputs": [],
   "source": [
    "train_accuracy = model.score(credit_train[features], credit_train[target])\n",
    "test_accuracy = model.score(credit_test[features],credit_test[target])\n",
    "print(train_accuracy, test_accuracy)"
   ]
  }
 ],
 "metadata": {
  "kernelspec": {
   "display_name": "Python 3",
   "language": "python",
   "name": "python3"
  },
  "language_info": {
   "codemirror_mode": {
    "name": "ipython",
    "version": 3
   },
   "file_extension": ".py",
   "mimetype": "text/x-python",
   "name": "python",
   "nbconvert_exporter": "python",
   "pygments_lexer": "ipython3",
   "version": "3.7.3"
  }
 },
 "nbformat": 4,
 "nbformat_minor": 2
}
