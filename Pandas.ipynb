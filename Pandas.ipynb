{
 "cells": [
  {
   "cell_type": "code",
   "execution_count": 3,
   "metadata": {},
   "outputs": [
    {
     "name": "stdout",
     "output_type": "stream",
     "text": [
      "    C1  C2    C3\n",
      "R1   1   2   NaN\n",
      "R2   5  10  20.0\n",
      "   C1 C2\n",
      "R1  1  2\n",
      "R2  3  4\n",
      "    a   b\n",
      "p  52  32\n",
      "q  45  85\n"
     ]
    }
   ],
   "source": [
    "import pandas as pd\n",
    "\n",
    "# Create dataframe using list of dictionary\n",
    "arr = [{\"C1\": 1, \"C2\": 2}, {\"C1\": 5, \"C2\": 10, \"C3\": 20}]\n",
    "print(pd.DataFrame(arr, index = [\"R1\", \"R2\"]))\n",
    "\n",
    "#Using dictionary\n",
    "dc = {\"C1\": [\"1\",\"3\"], \"C2\": [\"2\",\"4\"]}\n",
    "print(pd.DataFrame(dc, index = [\"R1\", \"R2\"]))\n",
    "\n",
    "#Using list\n",
    "lst = [[52,32],[45,85]]\n",
    "print(pd.DataFrame(lst, index = list('pq'), columns = list('ab')))"
   ]
  },
  {
   "cell_type": "code",
   "execution_count": 5,
   "metadata": {},
   "outputs": [
    {
     "name": "stdout",
     "output_type": "stream",
     "text": [
      "      A     B   C       D\n",
      "0  10.0  text   2  (3+9j)\n",
      "1  20.0  text  60  (3+9j)\n",
      "A       float64\n",
      "B        object\n",
      "C         int64\n",
      "D    complex128\n",
      "dtype: object\n"
     ]
    }
   ],
   "source": [
    "df = pd.DataFrame({'A': [10., 20.], \n",
    "                                      'B': \"text\",\n",
    "                                      'C': [2,60],\n",
    "                                      'D': 3+9j})\n",
    "print(df)\n",
    "print(df.dtypes)"
   ]
  },
  {
   "cell_type": "code",
   "execution_count": 8,
   "metadata": {},
   "outputs": [
    {
     "name": "stdout",
     "output_type": "stream",
     "text": [
      "<class 'pandas.core.frame.DataFrame'>\n",
      "RangeIndex: 2 entries, 0 to 1\n",
      "Data columns (total 4 columns):\n",
      "A    2 non-null float64\n",
      "B    2 non-null object\n",
      "C    2 non-null int64\n",
      "D    2 non-null complex128\n",
      "dtypes: complex128(1), float64(1), int64(1), object(1)\n",
      "memory usage: 160.0+ bytes\n",
      "None\n",
      "RangeIndex(start=0, stop=2, step=1)\n",
      "Index(['A', 'B', 'C', 'D'], dtype='object')\n",
      "[[10.0 'text' 2 (3+9j)]\n",
      " [20.0 'text' 60 (3+9j)]]\n"
     ]
    }
   ],
   "source": [
    "#See Dataframe df.info()\n",
    "print(df.info())\n",
    "\n",
    "#Index of row\n",
    "print(df.index)\n",
    "\n",
    "#Index of column\n",
    "print(df.columns)\n",
    "\n",
    "#value of df\n",
    "print(df.values)"
   ]
  },
  {
   "cell_type": "code",
   "execution_count": 29,
   "metadata": {},
   "outputs": [
    {
     "name": "stdout",
     "output_type": "stream",
     "text": [
      "      A   b        c\n",
      "p  0.23  f1  0.32692\n",
      "q  5.36  f2  0.82380\n",
      "A      5.36\n",
      "b        f2\n",
      "c    0.8238\n",
      "Name: q, dtype: object\n"
     ]
    }
   ],
   "source": [
    "#Add a new column ' c' filled with random values.\n",
    "\n",
    "import pandas as pd\n",
    "import numpy as np\n",
    "\n",
    "df = pd.DataFrame([[0.23, 'f1'], [5.36, 'f2']],\n",
    "                                     index = list('pq'),\n",
    "                                     columns = list('ab'))\n",
    "\n",
    "df.columns = list(\"Ab\")\n",
    "#df['c'] = np.random.randint(0,5, size=len(df))\n",
    "df['c'] = np.random.random(len(df))\n",
    "print(df)\n",
    "\n",
    "#Change the datatype of column ' A' values to complex.\n",
    "df['A'].astype('complex')\n"
   ]
  },
  {
   "cell_type": "code",
   "execution_count": 37,
   "metadata": {},
   "outputs": [
    {
     "name": "stdout",
     "output_type": "stream",
     "text": [
      "A      5.36\n",
      "b        f2\n",
      "c    0.8238\n",
      "Name: q, dtype: object\n"
     ]
    }
   ],
   "source": [
    "#Display rows whose any of the element matches with any element of the given list:\n",
    "arr = ['f30','f50','f2','f0'] \n",
    "\n",
    "for row_index, row in df.iterrows():\n",
    "    #print(row_index, row)\n",
    "    for y in range(len(arr)):\n",
    "        if(row['b'] == arr[y]):\n",
    "            print(row)"
   ]
  },
  {
   "cell_type": "code",
   "execution_count": 38,
   "metadata": {},
   "outputs": [
    {
     "data": {
      "text/html": [
       "<div>\n",
       "<style scoped>\n",
       "    .dataframe tbody tr th:only-of-type {\n",
       "        vertical-align: middle;\n",
       "    }\n",
       "\n",
       "    .dataframe tbody tr th {\n",
       "        vertical-align: top;\n",
       "    }\n",
       "\n",
       "    .dataframe thead th {\n",
       "        text-align: right;\n",
       "    }\n",
       "</style>\n",
       "<table border=\"1\" class=\"dataframe\">\n",
       "  <thead>\n",
       "    <tr style=\"text-align: right;\">\n",
       "      <th></th>\n",
       "      <th>Unnamed: 0</th>\n",
       "      <th>C</th>\n",
       "      <th>D</th>\n",
       "    </tr>\n",
       "  </thead>\n",
       "  <tbody>\n",
       "    <tr>\n",
       "      <th>0</th>\n",
       "      <td>A</td>\n",
       "      <td>11</td>\n",
       "      <td>202</td>\n",
       "    </tr>\n",
       "    <tr>\n",
       "      <th>1</th>\n",
       "      <td>B</td>\n",
       "      <td>33</td>\n",
       "      <td>44</td>\n",
       "    </tr>\n",
       "  </tbody>\n",
       "</table>\n",
       "</div>"
      ],
      "text/plain": [
       "  Unnamed: 0   C    D\n",
       "0          A  11  202\n",
       "1          B  33   44"
      ]
     },
     "execution_count": 38,
     "metadata": {},
     "output_type": "execute_result"
    }
   ],
   "source": [
    "import pandas as pd\n",
    "\n",
    "df = pd.DataFrame([[11, 202], [33,44]], index=list('AB'), columns=list('CD'))\n",
    "\n",
    "#Writing to excel file\n",
    "df.to_excel('test_file.xlsx', sheet_name= 'Sheet1')\n",
    "\n",
    "#Reading from excel file\n",
    "pd.read_excel('test_file.xlsx', 'Sheet1')"
   ]
  },
  {
   "cell_type": "code",
   "execution_count": null,
   "metadata": {},
   "outputs": [],
   "source": []
  },
  {
   "cell_type": "code",
   "execution_count": null,
   "metadata": {},
   "outputs": [],
   "source": []
  }
 ],
 "metadata": {
  "kernelspec": {
   "display_name": "Python 3",
   "language": "python",
   "name": "python3"
  },
  "language_info": {
   "codemirror_mode": {
    "name": "ipython",
    "version": 3
   },
   "file_extension": ".py",
   "mimetype": "text/x-python",
   "name": "python",
   "nbconvert_exporter": "python",
   "pygments_lexer": "ipython3",
   "version": "3.7.3"
  }
 },
 "nbformat": 4,
 "nbformat_minor": 2
}
