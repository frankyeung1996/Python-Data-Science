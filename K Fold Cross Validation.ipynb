{
 "cells": [
  {
   "cell_type": "code",
   "execution_count": 4,
   "metadata": {},
   "outputs": [],
   "source": [
    "#k-fold cross-validation \n",
    "\n",
    "#One of the widely used cross-validation technique is k-fold\n",
    "#cross-validation where the sample data is divided into k equal\n",
    "#size subsamples. Among these subsamples, k-1 subsamples are selected \n",
    "#at random for training and the remaining subsample is used for validation. \n",
    "#This procedure is repeated k times such that each subsample is used\n",
    "#exactly once as a validation data. The results are aggregated to get the \n",
    "#final prediction.\n",
    "\n",
    "#The below code demonstrates the usage of 5 fold cross validation\n",
    "#to determine the best k value for a kNN model built on the default data set.\n",
    "\n",
    "import numpy as np\n",
    "import pandas as pd\n",
    "import matplotlib.pyplot as plt\n",
    "%matplotlib inline\n",
    "import warnings\n",
    "warnings.filterwarnings(\"ignore\")\n",
    "\n",
    "default = pd.read_csv(\"default.csv\")\n",
    "\n",
    "#normalize the dataset\n",
    "from sklearn.preprocessing import MinMaxScaler\n",
    "scaler = MinMaxScaler()\n",
    "features_to_scale = [\"balance\",\"income\"]\n",
    "scaled_values = scaler.fit_transform(default[features_to_scale])\n",
    "default[\"norm_balance\"] = scaled_values[:,0]\n",
    "default[\"norm_income\"] = scaled_values[:,1]"
   ]
  },
  {
   "cell_type": "code",
   "execution_count": 5,
   "metadata": {},
   "outputs": [],
   "source": [
    "#train test split\n",
    "from sklearn.model_selection import train_test_split\n",
    "default_train, default_test = train_test_split(default, test_size=0.2, random_state=100)"
   ]
  },
  {
   "cell_type": "code",
   "execution_count": 7,
   "metadata": {},
   "outputs": [],
   "source": [
    "#KNN with 5 fold cross validation\n",
    "\n",
    "from sklearn.neighbors import KNeighborsClassifier\n",
    "from sklearn.model_selection import KFold\n",
    "k_fold = KFold(n_splits=5, shuffle=False, random_state=100)\n",
    "\n",
    "#features and target\n",
    "features = [\"norm_balance\", \"norm_income\"]\n",
    "target = [\"default\"]\n",
    "\n",
    "knn_k_vals = [1,3,5,7,9,11]\n",
    "avg_train_accuracy = []\n",
    "avg_val_accuracy = []\n",
    "\n",
    "X = default_train[features]\n",
    "y = default_train[target]\n",
    "\n",
    "#Taking each value of k from the list\n",
    "for k in knn_k_vals:\n",
    "    #Iterating over each fold from k fold\n",
    "    train_accuracy = []\n",
    "    val_accuracy = []\n",
    "    for i, (train, val) in enumerate(k_fold.split(X,y)):\n",
    "        #Train a model on the selected fold for a selected value of k\n",
    "        model = KNeighborsClassifier(n_neighbors=k, metric=\"euclidean\")\n",
    "        model.fit(X.iloc[train], y.iloc[train])\n",
    "        train_accuracy.append(model.score(X.iloc[train],y.iloc[train]))\n",
    "        val_accuracy.append(model.score(X.iloc[val], y.iloc[val]))\n",
    "    avg_train_accuracy.append(np.mean(train_accuracy))\n",
    "    avg_val_accuracy.append(np.mean(val_accuracy))"
   ]
  },
  {
   "cell_type": "code",
   "execution_count": 8,
   "metadata": {
    "scrolled": true
   },
   "outputs": [
    {
     "data": {
      "text/html": [
       "<div>\n",
       "<style scoped>\n",
       "    .dataframe tbody tr th:only-of-type {\n",
       "        vertical-align: middle;\n",
       "    }\n",
       "\n",
       "    .dataframe tbody tr th {\n",
       "        vertical-align: top;\n",
       "    }\n",
       "\n",
       "    .dataframe thead th {\n",
       "        text-align: right;\n",
       "    }\n",
       "</style>\n",
       "<table border=\"1\" class=\"dataframe\">\n",
       "  <thead>\n",
       "    <tr style=\"text-align: right;\">\n",
       "      <th></th>\n",
       "      <th>k</th>\n",
       "      <th>avg_train_accuracy</th>\n",
       "      <th>avg_val_accuracy</th>\n",
       "    </tr>\n",
       "  </thead>\n",
       "  <tbody>\n",
       "    <tr>\n",
       "      <th>0</th>\n",
       "      <td>1.0</td>\n",
       "      <td>1.000000</td>\n",
       "      <td>0.954500</td>\n",
       "    </tr>\n",
       "    <tr>\n",
       "      <th>1</th>\n",
       "      <td>3.0</td>\n",
       "      <td>0.977688</td>\n",
       "      <td>0.968000</td>\n",
       "    </tr>\n",
       "    <tr>\n",
       "      <th>2</th>\n",
       "      <td>5.0</td>\n",
       "      <td>0.975313</td>\n",
       "      <td>0.970750</td>\n",
       "    </tr>\n",
       "    <tr>\n",
       "      <th>3</th>\n",
       "      <td>7.0</td>\n",
       "      <td>0.974531</td>\n",
       "      <td>0.971250</td>\n",
       "    </tr>\n",
       "    <tr>\n",
       "      <th>4</th>\n",
       "      <td>9.0</td>\n",
       "      <td>0.974781</td>\n",
       "      <td>0.972500</td>\n",
       "    </tr>\n",
       "    <tr>\n",
       "      <th>5</th>\n",
       "      <td>11.0</td>\n",
       "      <td>0.974469</td>\n",
       "      <td>0.972625</td>\n",
       "    </tr>\n",
       "  </tbody>\n",
       "</table>\n",
       "</div>"
      ],
      "text/plain": [
       "      k  avg_train_accuracy  avg_val_accuracy\n",
       "0   1.0            1.000000          0.954500\n",
       "1   3.0            0.977688          0.968000\n",
       "2   5.0            0.975313          0.970750\n",
       "3   7.0            0.974531          0.971250\n",
       "4   9.0            0.974781          0.972500\n",
       "5  11.0            0.974469          0.972625"
      ]
     },
     "execution_count": 8,
     "metadata": {},
     "output_type": "execute_result"
    }
   ],
   "source": [
    "performance_scores = pd.DataFrame(np.array([knn_k_vals,\n",
    "                                                                                       avg_train_accuracy,\n",
    "                                                                                       avg_val_accuracy]).T,\n",
    "                                             columns=[\"k\",\"avg_train_accuracy\",\"avg_val_accuracy\"])\n",
    "performance_scores"
   ]
  },
  {
   "cell_type": "code",
   "execution_count": 10,
   "metadata": {},
   "outputs": [
    {
     "data": {
      "text/plain": [
       "5    11.0\n",
       "Name: k, dtype: float64"
      ]
     },
     "execution_count": 10,
     "metadata": {},
     "output_type": "execute_result"
    }
   ],
   "source": [
    "#The best K is 11\n",
    "\n",
    "best_k = performance_scores[\"k\"][performance_scores[\"avg_val_accuracy\"]==\n",
    "                                                                performance_scores[\"avg_val_accuracy\"].max()]\n",
    "best_k"
   ]
  },
  {
   "cell_type": "code",
   "execution_count": 13,
   "metadata": {},
   "outputs": [
    {
     "name": "stdout",
     "output_type": "stream",
     "text": [
      "0.97475 0.9715\n"
     ]
    }
   ],
   "source": [
    "#Build the KNN using k=11\n",
    "\n",
    "features = [\"norm_balance\", \"norm_income\"]\n",
    "target = [\"default\"]\n",
    "model = KNeighborsClassifier(n_neighbors = 11, metric=\"euclidean\")\n",
    "model.fit(default_train[features], default_train[target])\n",
    "train_accuracy = model.score(default_train[features], default_train[target])\n",
    "test_accuracy = model.score(default_test[features],default_test[target])\n",
    "print(train_accuracy, test_accuracy)"
   ]
  },
  {
   "cell_type": "code",
   "execution_count": null,
   "metadata": {},
   "outputs": [],
   "source": []
  },
  {
   "cell_type": "code",
   "execution_count": null,
   "metadata": {},
   "outputs": [],
   "source": []
  },
  {
   "cell_type": "code",
   "execution_count": null,
   "metadata": {},
   "outputs": [],
   "source": []
  },
  {
   "cell_type": "code",
   "execution_count": null,
   "metadata": {},
   "outputs": [],
   "source": []
  },
  {
   "cell_type": "code",
   "execution_count": null,
   "metadata": {},
   "outputs": [],
   "source": []
  },
  {
   "cell_type": "code",
   "execution_count": null,
   "metadata": {},
   "outputs": [],
   "source": []
  },
  {
   "cell_type": "code",
   "execution_count": null,
   "metadata": {},
   "outputs": [],
   "source": []
  }
 ],
 "metadata": {
  "kernelspec": {
   "display_name": "Python 3",
   "language": "python",
   "name": "python3"
  },
  "language_info": {
   "codemirror_mode": {
    "name": "ipython",
    "version": 3
   },
   "file_extension": ".py",
   "mimetype": "text/x-python",
   "name": "python",
   "nbconvert_exporter": "python",
   "pygments_lexer": "ipython3",
   "version": "3.7.3"
  }
 },
 "nbformat": 4,
 "nbformat_minor": 2
}
