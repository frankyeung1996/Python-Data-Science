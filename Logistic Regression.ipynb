{
 "cells": [
  {
   "cell_type": "code",
   "execution_count": 60,
   "metadata": {
    "scrolled": false
   },
   "outputs": [
    {
     "name": "stderr",
     "output_type": "stream",
     "text": [
      "C:\\Users\\hsbc_2019\\Anaconda3\\lib\\site-packages\\sklearn\\linear_model\\logistic.py:433: FutureWarning: Default solver will be changed to 'lbfgs' in 0.22. Specify a solver to silence this warning.\n",
      "  FutureWarning)\n",
      "C:\\Users\\hsbc_2019\\Anaconda3\\lib\\site-packages\\sklearn\\utils\\validation.py:761: DataConversionWarning: A column-vector y was passed when a 1d array was expected. Please change the shape of y to (n_samples, ), for example using ravel().\n",
      "  y = column_or_1d(y, warn=True)\n"
     ]
    },
    {
     "data": {
      "text/plain": [
       "LogisticRegression(C=1.0, class_weight=None, dual=False, fit_intercept=True,\n",
       "          intercept_scaling=1, max_iter=100, multi_class='warn',\n",
       "          n_jobs=None, penalty='l2', random_state=None, solver='warn',\n",
       "          tol=0.0001, verbose=0, warm_start=False)"
      ]
     },
     "execution_count": 60,
     "metadata": {},
     "output_type": "execute_result"
    }
   ],
   "source": [
    "import numpy as np\n",
    "import pandas as pd\n",
    "from sklearn.linear_model import LogisticRegression\n",
    "\n",
    "#Read the csv file\n",
    "df = pd.read_csv(\"bank.csv\",sep=\";\")\n",
    "#df.describe()\n",
    "#df.info()\n",
    "#df.head()\n",
    "\n",
    "#feature and target of the data set\n",
    "model = LogisticRegression()\n",
    "features = df.columns.drop(\"y\")\n",
    "target = [\"y\"]\n",
    "\n",
    "#categorical data change to int\n",
    "df = pd.get_dummies(df[features])\n",
    "\n",
    "#train test split\n",
    "from sklearn.model_selection import train_test_split\n",
    "bank_train, bank_test = train_test_split(bank_data_encoded, test_size=0.3)\n",
    "bank_train.shape, bank_test.shape\n",
    "\n",
    "#fit the Logistic Regression Model\n",
    "features = bank_train.columns.drop(\"y\")\n",
    "model.fit(bank_train[features],bank_train[target])"
   ]
  },
  {
   "cell_type": "code",
   "execution_count": 65,
   "metadata": {},
   "outputs": [
    {
     "name": "stdout",
     "output_type": "stream",
     "text": [
      "0.9020227560050569\n"
     ]
    }
   ],
   "source": [
    "#Confusion Matrix\n",
    "from sklearn.metrics import confusion_matrix\n",
    "\n",
    "train_predictions = model.predict(bank_train[features])\n",
    "test_predictions = model.predict(bank_test[features])\n",
    "train_conf_matrix = confusion_matrix(bank_train[target], train_predictions)\n",
    "test_conf_matrix = confusion_matrix(bank_test[target],test_predictions)\n",
    "\n",
    "pd.DataFrame(train_conf_matrix, columns=model.classes_, index=model.classes_)\n",
    "pd.DataFrame(test_conf_matrix,columns=model.classes_, index=model.classes_)\n",
    "\n",
    "train_correct_predictions = train_conf_matrix[0][0] + train_conf_matrix[1][1]\n",
    "train_total_predictions = train_conf_matrix.sum()\n",
    "train_accuracy = train_correct_predictions / train_total_predictions\n",
    "print(train_accuracy)"
   ]
  },
  {
   "cell_type": "code",
   "execution_count": 66,
   "metadata": {},
   "outputs": [
    {
     "name": "stdout",
     "output_type": "stream",
     "text": [
      "              precision    recall  f1-score   support\n",
      "\n",
      "          no       0.88      0.94      0.91      2791\n",
      "         yes       0.15      0.08      0.10       373\n",
      "\n",
      "   micro avg       0.84      0.84      0.84      3164\n",
      "   macro avg       0.51      0.51      0.51      3164\n",
      "weighted avg       0.80      0.84      0.82      3164\n",
      "\n"
     ]
    }
   ],
   "source": [
    "#Precision\n",
    "\n",
    "from sklearn.metrics import classification_report\n",
    "\n",
    "print(classification_report(credit_train[target], train_predictions))"
   ]
  }
 ],
 "metadata": {
  "kernelspec": {
   "display_name": "Python 3",
   "language": "python",
   "name": "python3"
  },
  "language_info": {
   "codemirror_mode": {
    "name": "ipython",
    "version": 3
   },
   "file_extension": ".py",
   "mimetype": "text/x-python",
   "name": "python",
   "nbconvert_exporter": "python",
   "pygments_lexer": "ipython3",
   "version": "3.7.3"
  }
 },
 "nbformat": 4,
 "nbformat_minor": 2
}
